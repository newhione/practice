{
 "cells": [
  {
   "cell_type": "code",
   "execution_count": null,
   "metadata": {},
   "outputs": [
    {
     "name": "stdout",
     "output_type": "stream",
     "text": [
      "Collecting beautifulsoup4\n",
      "  Downloading beautifulsoup4-4.14.0-py3-none-any.whl.metadata (3.8 kB)\n",
      "Requirement already satisfied: requests in c:\\python_src\\.venv\\lib\\site-packages (2.32.5)\n",
      "Collecting soupsieve>1.2 (from beautifulsoup4)\n",
      "  Using cached soupsieve-2.8-py3-none-any.whl.metadata (4.6 kB)\n",
      "Collecting typing-extensions>=4.0.0 (from beautifulsoup4)\n",
      "  Using cached typing_extensions-4.15.0-py3-none-any.whl.metadata (3.3 kB)\n",
      "Requirement already satisfied: charset_normalizer<4,>=2 in c:\\python_src\\.venv\\lib\\site-packages (from requests) (3.4.3)\n",
      "Requirement already satisfied: idna<4,>=2.5 in c:\\python_src\\.venv\\lib\\site-packages (from requests) (3.10)\n",
      "Requirement already satisfied: urllib3<3,>=1.21.1 in c:\\python_src\\.venv\\lib\\site-packages (from requests) (2.5.0)\n",
      "Requirement already satisfied: certifi>=2017.4.17 in c:\\python_src\\.venv\\lib\\site-packages (from requests) (2025.8.3)\n",
      "Downloading beautifulsoup4-4.14.0-py3-none-any.whl (106 kB)\n",
      "Using cached soupsieve-2.8-py3-none-any.whl (36 kB)\n",
      "Using cached typing_extensions-4.15.0-py3-none-any.whl (44 kB)\n",
      "Installing collected packages: typing-extensions, soupsieve, beautifulsoup4\n",
      "\n",
      "   ------------- -------------------------- 1/3 [soupsieve]\n",
      "   ------------- -------------------------- 1/3 [soupsieve]\n",
      "   -------------------------- ------------- 2/3 [beautifulsoup4]\n",
      "   -------------------------- ------------- 2/3 [beautifulsoup4]\n",
      "   -------------------------- ------------- 2/3 [beautifulsoup4]\n",
      "   -------------------------- ------------- 2/3 [beautifulsoup4]\n",
      "   -------------------------- ------------- 2/3 [beautifulsoup4]\n",
      "   -------------------------- ------------- 2/3 [beautifulsoup4]\n",
      "   ---------------------------------------- 3/3 [beautifulsoup4]\n",
      "\n",
      "Successfully installed beautifulsoup4-4.14.0 soupsieve-2.8 typing-extensions-4.15.0\n",
      "Note: you may need to restart the kernel to use updated packages.\n"
     ]
    }
   ],
   "source": [
    "%pip install beautifulsoup4 requests #서로 의존관계를 파악해 맞는 버전으로 설치해줌"
   ]
  },
  {
   "cell_type": "code",
   "execution_count": 4,
   "metadata": {
    "executionInfo": {
     "elapsed": 2337,
     "status": "ok",
     "timestamp": 1706180950836,
     "user": {
      "displayName": "Steve",
      "userId": "13015281013241816762"
     },
     "user_tz": -540
    },
    "id": "PSJ0UQVYOkXc",
    "tags": []
   },
   "outputs": [],
   "source": [
    "# 라이브러리 불러오기\n",
    "from bs4 import BeautifulSoup\n",
    "import requests\n",
    "import re\n",
    "import pandas as pd"
   ]
  },
  {
   "cell_type": "code",
   "execution_count": 8,
   "metadata": {
    "tags": []
   },
   "outputs": [
    {
     "name": "stdout",
     "output_type": "stream",
     "text": [
      "resp:  <Response [403]>\n",
      "====================================================================================================\n",
      "resp.text:  Please set a user-agent and respect our robot policy https://w.wiki/4wJS. See also T400119.\n",
      "\n",
      "====================================================================================================\n",
      "soup:  <html><body><p>Please set a user-agent and respect our robot policy https://w.wiki/4wJS. See also T400119.\n",
      "</p></body></html>\n",
      "====================================================================================================\n",
      "rows:  []\n"
     ]
    }
   ],
   "source": [
    "# 위키피디아 미국 ETF 웹 페이지에서 필요한 정보를 스크래핑하여 딕셔너리 형태로 변수 etfs에 저장\n",
    "url = \"https://en.wikipedia.org/wiki/List_of_American_exchange-traded_funds\"\n",
    "header = {\n",
    "\"User-Agent\": \"CoolBot/0.0 (https://example.org/coolbot/; coolbot@example.org) generic-library/0.0\"\n",
    "}\n",
    "resp = requests.get(url)\n",
    "soup = BeautifulSoup(resp.text, 'lxml')   \n",
    "rows = soup.select('div > ul > li')\n",
    "\n",
    "print(\"resp: \", resp)\n",
    "print(\"=\" * 100)\n",
    "print(\"resp.text: \", resp.text)\n",
    "print(\"=\" * 100)\n",
    "print(\"soup: \", soup)\n",
    "print(\"=\" * 100)\n",
    "print(\"rows: \", rows[50:55])"
   ]
  },
  {
   "cell_type": "code",
   "execution_count": 9,
   "metadata": {},
   "outputs": [
    {
     "name": "stdout",
     "output_type": "stream",
     "text": [
      "iShares Core S&P Total US Stock Mkt (NYSE Arca: ITOT)\n",
      "iShares MSCI ACWI Index (Nasdaq: ACWI)\n",
      "iShares Russell 3000 Index (NYSE Arca: IWV)\n",
      "Schwab US Broad Market ETF (NYSE Arca: SCHB)\n",
      "Schwab Fundamental U.S. Broad Market Index ETF (NYSE Arca: FNDB)\n",
      "Vanguard Total World Stock (NYSE Arca: VT), tracks the FTSE All-World Index\n",
      "Vanguard Total Stock Market (NYSE Arca: VTI), tracks the MSCI US Broad Market Index\n",
      "Vanguard Total International Stock (NYSE Arca: VXUS), tracks the MSCI All Country World ex-USA Investable Market Index\n",
      "Vanguard Russell 3000 (NYSE Arca: VTHR), tracks 98% of the US market\n"
     ]
    }
   ],
   "source": [
    "# 위키피디아 미국 ETF 웹 페이지에서 필요한 정보를 스크래핑하여 딕셔너리 형태로 변수 etfs에 저장\n",
    "url = \"https://en.wikipedia.org/wiki/List_of_American_exchange-traded_funds\"\n",
    "header = {\n",
    "\"User-Agent\": \"CoolBot/0.0 (https://example.org/coolbot/; coolbot@example.org) generic-library/0.0\"\n",
    "}\n",
    "\n",
    "resp = requests.get(url, headers=header )\n",
    "soup = BeautifulSoup(resp.text, 'lxml')   \n",
    "rows = soup.select('#mw-content-text > div.mw-content-ltr.mw-parser-output > ul:nth-child(11) > li') \n",
    "for row in rows:\n",
    "    print(row.text)"
   ]
  },
  {
   "cell_type": "code",
   "execution_count": 7,
   "metadata": {
    "tags": []
   },
   "outputs": [
    {
     "name": "stdout",
     "output_type": "stream",
     "text": [
      "{}\n"
     ]
    },
    {
     "name": "stderr",
     "output_type": "stream",
     "text": [
      "<>:5: SyntaxWarning: invalid escape sequence '\\s'\n",
      "<>:6: SyntaxWarning: invalid escape sequence '\\('\n",
      "<>:7: SyntaxWarning: invalid escape sequence '\\s'\n",
      "<>:5: SyntaxWarning: invalid escape sequence '\\s'\n",
      "<>:6: SyntaxWarning: invalid escape sequence '\\('\n",
      "<>:7: SyntaxWarning: invalid escape sequence '\\s'\n",
      "C:\\Users\\Public\\Documents\\ESTsoft\\CreatorTemp\\ipykernel_35476\\1232222225.py:5: SyntaxWarning: invalid escape sequence '\\s'\n",
      "  etf_name = re.findall(\"(.+?)\\s\\(\", row.text)\n",
      "C:\\Users\\Public\\Documents\\ESTsoft\\CreatorTemp\\ipykernel_35476\\1232222225.py:6: SyntaxWarning: invalid escape sequence '\\('\n",
      "  etf_market = re.findall(\"\\((.+?):\", row.text)\n",
      "C:\\Users\\Public\\Documents\\ESTsoft\\CreatorTemp\\ipykernel_35476\\1232222225.py:7: SyntaxWarning: invalid escape sequence '\\s'\n",
      "  etf_ticker = re.findall(\":\\s(.+)\\)\", row.text)\n"
     ]
    }
   ],
   "source": [
    "etfs = {}\n",
    "for row in rows:\n",
    "    \n",
    "    try:\n",
    "        etf_name = re.findall(\"(.+?)\\s\\(\", row.text)\n",
    "        etf_market = re.findall(\"\\((.+?):\", row.text)\n",
    "        etf_ticker = re.findall(\":\\s(.+)\\)\", row.text)\n",
    "        \n",
    "        if (len(etf_ticker) > 0) & (len(etf_market) > 0) & (len(etf_name) > 0):\n",
    "            etfs[etf_ticker[0]] = [etf_market[0], etf_name[0]]\n",
    "\n",
    "    except AttributeError as err:\n",
    "        pass    \n",
    "\n",
    "# etfs 딕셔너리 출력\n",
    "print(etfs)"
   ]
  },
  {
   "cell_type": "code",
   "execution_count": 4,
   "metadata": {
    "tags": []
   },
   "outputs": [
    {
     "data": {
      "text/html": [
       "<div>\n",
       "<style scoped>\n",
       "    .dataframe tbody tr th:only-of-type {\n",
       "        vertical-align: middle;\n",
       "    }\n",
       "\n",
       "    .dataframe tbody tr th {\n",
       "        vertical-align: top;\n",
       "    }\n",
       "\n",
       "    .dataframe thead th {\n",
       "        text-align: right;\n",
       "    }\n",
       "</style>\n",
       "<table border=\"1\" class=\"dataframe\">\n",
       "  <thead>\n",
       "    <tr style=\"text-align: right;\">\n",
       "      <th></th>\n",
       "      <th>ITOT</th>\n",
       "      <th>ACWI</th>\n",
       "      <th>IWV</th>\n",
       "      <th>SCHB</th>\n",
       "      <th>FNDB</th>\n",
       "      <th>VT</th>\n",
       "      <th>VTI</th>\n",
       "      <th>VXUS</th>\n",
       "      <th>VTHR</th>\n",
       "    </tr>\n",
       "  </thead>\n",
       "  <tbody>\n",
       "    <tr>\n",
       "      <th>0</th>\n",
       "      <td>NYSE Arca</td>\n",
       "      <td>Nasdaq</td>\n",
       "      <td>NYSE Arca</td>\n",
       "      <td>NYSE Arca</td>\n",
       "      <td>NYSE Arca</td>\n",
       "      <td>NYSE Arca</td>\n",
       "      <td>NYSE Arca</td>\n",
       "      <td>NYSE Arca</td>\n",
       "      <td>NYSE Arca</td>\n",
       "    </tr>\n",
       "    <tr>\n",
       "      <th>1</th>\n",
       "      <td>iShares Core S&amp;P Total US Stock Mkt</td>\n",
       "      <td>iShares MSCI ACWI Index</td>\n",
       "      <td>iShares Russell 3000 Index</td>\n",
       "      <td>Schwab US Broad Market ETF</td>\n",
       "      <td>Schwab Fundamental U.S. Broad Market Index ETF</td>\n",
       "      <td>Vanguard Total World Stock</td>\n",
       "      <td>Vanguard Total Stock Market</td>\n",
       "      <td>Vanguard Total International Stock</td>\n",
       "      <td>Vanguard Russell 3000</td>\n",
       "    </tr>\n",
       "  </tbody>\n",
       "</table>\n",
       "</div>"
      ],
      "text/plain": [
       "                                  ITOT                     ACWI  \\\n",
       "0                            NYSE Arca                   Nasdaq   \n",
       "1  iShares Core S&P Total US Stock Mkt  iShares MSCI ACWI Index   \n",
       "\n",
       "                          IWV                        SCHB  \\\n",
       "0                   NYSE Arca                   NYSE Arca   \n",
       "1  iShares Russell 3000 Index  Schwab US Broad Market ETF   \n",
       "\n",
       "                                             FNDB                          VT  \\\n",
       "0                                       NYSE Arca                   NYSE Arca   \n",
       "1  Schwab Fundamental U.S. Broad Market Index ETF  Vanguard Total World Stock   \n",
       "\n",
       "                           VTI                                VXUS  \\\n",
       "0                    NYSE Arca                           NYSE Arca   \n",
       "1  Vanguard Total Stock Market  Vanguard Total International Stock   \n",
       "\n",
       "                    VTHR  \n",
       "0              NYSE Arca  \n",
       "1  Vanguard Russell 3000  "
      ]
     },
     "execution_count": 4,
     "metadata": {},
     "output_type": "execute_result"
    }
   ],
   "source": [
    "# etfs 딕셔너리를 데이터프레임으로 변환\n",
    "df = pd.DataFrame(etfs)\n",
    "df"
   ]
  }
 ],
 "metadata": {
  "colab": {
   "authorship_tag": "ABX9TyMmPDgPDlEQ9VJpxhthoipr",
   "provenance": []
  },
  "kernelspec": {
   "display_name": ".venv",
   "language": "python",
   "name": "python3"
  },
  "language_info": {
   "codemirror_mode": {
    "name": "ipython",
    "version": 3
   },
   "file_extension": ".py",
   "mimetype": "text/x-python",
   "name": "python",
   "nbconvert_exporter": "python",
   "pygments_lexer": "ipython3",
   "version": "3.12.2"
  }
 },
 "nbformat": 4,
 "nbformat_minor": 4
}
