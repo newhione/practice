{
 "cells": [
  {
   "cell_type": "markdown",
   "id": "dff513be",
   "metadata": {},
   "source": [
    "# KNN \n",
    "- 분류모델, 새로운 데이터의 클래스 예측\n",
    "#### 적절한 k\n",
    "- k가 너무 작음 -> _overfitting_ (가장 가까운 데이터에 의존, 그 데이터가 이상치일 경우 예측이 틀려짐, 과대적합)\n",
    "- k가 너무 큼 => _underfitting_ (너무 많은 데이터 참조, 국지적 특성 반영X, 과소적합)\n",
    "- k를 1부터 바꿔가며 모델의 정확도를 측정하여, 가장 높게 나오는 것으로 지정\n",
    "\n",
    "---\n",
    "\n",
    "\n",
    "#### 데이터 정규화\n",
    "- 타이타닉 dataset의 경우 나이, 객실 등급 등 범위가 다름. -> 범위가 큰 데이터가 거리 계산에 큰 영향을 미침\n",
    "- => 정규화 or 표준화\n",
    "\n",
    "---\n",
    "\n",
    "\n",
    "#### 혼동 행렬 - confusion matrix\n",
    "이모델을 얼마나 신뢰할수 있을까?\n",
    "- TP(True Positive) : 맞춘것 (실제:생존 -> 예측:생존)\n",
    "- TN(True Nagative) : 맞춘것 (실제:사망 -> 예측:사망)\n",
    "- FP(False Postive) : 틀린것 (실제:사망 -> 예측:생존) --> 제 1종 오류\n",
    "- FN(False Nagative): 틀린것 (실제:생존 -> 예측:사망) --> 제 2종 오류\n",
    "\n",
    "---\n",
    "#### 평가지표\n",
    "##### > 정확도(Accuaracy): (TP+TN) / (P+N) <br>\n",
    "- 전체 데이터 중 올발르게 예측한 비율 (단점: 클래스가 불균형일때, 왜곡될 수 있음)\n",
    "##### > 정밀도(Precision): TP / (TP+FP) <br>\n",
    "- 예측값=Positive -> 실제값=Positiv인 비율\n",
    "- False Positive가 적다\n",
    "#### > 재현율(Recall): TP / (TP+FN)\n",
    "- 실제값=Positive -> 예측값=Positive인 비율\n",
    "- False Negative가 적다\n",
    "##### > F1-score: 2 x (recall*precision / recall+precision)\n",
    "- 정밀도와 재현율의 조화평균, 두 지표가 모두 중요할 때, 클래스 불균형이 있는 dataset에 유용, 가장 많이 이용함"
   ]
  },
  {
   "cell_type": "markdown",
   "id": "4e217e81",
   "metadata": {},
   "source": [
    "---\n",
    "##### > 1. 데이터 수집\n",
    "##### > 2. 데이터 EDA\n",
    "- 탐색적 데이터 분석\n",
    "- 주로 시각화\n",
    "- 인사이트 도출\n",
    "\n",
    "##### > 3. 데이터 전처리\n",
    "- 결측치, 이상치, 타입에 맞지 않는 데이터 처리, onehot, 연속형->범주형, 상관계수\n",
    "\n",
    "loop:\n",
    "##### > 4. 학습에 사용할 컬럼 추출\n",
    "\n",
    "##### > 5. 분류 회귀에 따라 적절한 모델 선택\n",
    "- 가장 기본이 되는 base model 선정 -> 다양한 모델과의 비교학습을 통해 성능 최상의 모델 선택\n",
    "\n",
    "##### > 6. 최종 평가\n",
    "- 좋으면 선택\n",
    "- 그렇지 않으면 모델 재학습"
   ]
  },
  {
   "cell_type": "code",
   "execution_count": 2,
   "id": "dd7dc8f2-7a23-4748-ac17-1855c7e02a84",
   "metadata": {
    "tags": []
   },
   "outputs": [
    {
     "ename": "ModuleNotFoundError",
     "evalue": "No module named 'matplotlib'",
     "output_type": "error",
     "traceback": [
      "\u001b[31m---------------------------------------------------------------------------\u001b[39m",
      "\u001b[31mModuleNotFoundError\u001b[39m                       Traceback (most recent call last)",
      "\u001b[36mCell\u001b[39m\u001b[36m \u001b[39m\u001b[32mIn[2]\u001b[39m\u001b[32m, line 4\u001b[39m\n\u001b[32m      2\u001b[39m \u001b[38;5;28;01mimport\u001b[39;00m\u001b[38;5;250m \u001b[39m\u001b[34;01mpandas\u001b[39;00m\u001b[38;5;250m \u001b[39m\u001b[38;5;28;01mas\u001b[39;00m\u001b[38;5;250m \u001b[39m\u001b[34;01mpd\u001b[39;00m\n\u001b[32m      3\u001b[39m \u001b[38;5;28;01mimport\u001b[39;00m\u001b[38;5;250m \u001b[39m\u001b[34;01mnumpy\u001b[39;00m\u001b[38;5;250m \u001b[39m\u001b[38;5;28;01mas\u001b[39;00m\u001b[38;5;250m \u001b[39m\u001b[34;01mnp\u001b[39;00m\n\u001b[32m----> \u001b[39m\u001b[32m4\u001b[39m \u001b[38;5;28;01mimport\u001b[39;00m\u001b[38;5;250m \u001b[39m\u001b[34;01mmatplotlib\u001b[39;00m\u001b[34;01m.\u001b[39;00m\u001b[34;01mpyplot\u001b[39;00m\u001b[38;5;250m \u001b[39m\u001b[38;5;28;01mas\u001b[39;00m\u001b[38;5;250m \u001b[39m\u001b[34;01mplt\u001b[39;00m\n\u001b[32m      5\u001b[39m \u001b[38;5;28;01mimport\u001b[39;00m\u001b[38;5;250m \u001b[39m\u001b[34;01mseaborn\u001b[39;00m\u001b[38;5;250m \u001b[39m\u001b[38;5;28;01mas\u001b[39;00m\u001b[38;5;250m \u001b[39m\u001b[34;01msns\u001b[39;00m\n\u001b[32m      7\u001b[39m \u001b[33;03m'''\u001b[39;00m\n\u001b[32m      8\u001b[39m \u001b[33;03m[Step 1] 데이터 준비 - Seaborn에서 제공하는 titanic 데이터셋 가져오기\u001b[39;00m\n\u001b[32m      9\u001b[39m \u001b[33;03m'''\u001b[39;00m\n",
      "\u001b[31mModuleNotFoundError\u001b[39m: No module named 'matplotlib'"
     ]
    }
   ],
   "source": [
    "# 기본 라이브러리 불러오기\n",
    "import pandas as pd\n",
    "import numpy as np\n",
    "import matplotlib.pyplot as plt\n",
    "import seaborn as sns\n",
    "\n",
    "'''\n",
    "[Step 1] 데이터 준비 - Seaborn에서 제공하는 titanic 데이터셋 가져오기\n",
    "'''\n",
    "\n",
    "# load_dataset 함수를 사용하여 데이터프레임으로 변환\n",
    "df = sns.load_dataset('titanic')\n",
    "\n",
    "df.head()"
   ]
  },
  {
   "cell_type": "code",
   "execution_count": null,
   "id": "284a456b-e4f6-46e1-9599-79ca2ed9a7bd",
   "metadata": {
    "tags": []
   },
   "outputs": [],
   "source": [
    "'''\n",
    "[Step 2] 데이터 탐색\n",
    "'''\n",
    "\n",
    "# 데이터 자료형 확인\n",
    "df.info()"
   ]
  },
  {
   "cell_type": "code",
   "execution_count": null,
   "id": "b0c3b105",
   "metadata": {},
   "outputs": [],
   "source": [
    "df.isnull().sum()"
   ]
  },
  {
   "cell_type": "code",
   "execution_count": null,
   "id": "93c325de",
   "metadata": {},
   "outputs": [],
   "source": [
    "# 중복 데이터 확인\n",
    "df.duplicated().sum()"
   ]
  },
  {
   "cell_type": "code",
   "execution_count": null,
   "id": "d0f0e02a",
   "metadata": {},
   "outputs": [],
   "source": [
    "df[df.duplicated()]"
   ]
  },
  {
   "cell_type": "code",
   "execution_count": null,
   "id": "62361b9e-17cf-402a-af50-a56016229e76",
   "metadata": {
    "tags": []
   },
   "outputs": [],
   "source": [
    "# 데이터 통계 요약정보 확인\n",
    "df.describe()"
   ]
  },
  {
   "cell_type": "code",
   "execution_count": null,
   "id": "ea1bc7ff-5304-4c32-af04-b407e3cb3c49",
   "metadata": {
    "tags": []
   },
   "outputs": [],
   "source": [
    "# 데이터 통계 요약정보 확인 (범주형)\n",
    "df.describe(include='object')"
   ]
  },
  {
   "cell_type": "code",
   "execution_count": null,
   "id": "564276a2",
   "metadata": {},
   "outputs": [],
   "source": [
    "plt.figure(figsize=(6,10))\n",
    "sns.boxenplot(data=df.select_dtypes(include=['float64', 'int64']),orient='v')\n",
    "plt.show()"
   ]
  },
  {
   "cell_type": "code",
   "execution_count": null,
   "id": "9c4c4a5a",
   "metadata": {},
   "outputs": [],
   "source": [
    "sns.boxplot(data=df,x='age')"
   ]
  },
  {
   "cell_type": "markdown",
   "id": "032ff36a",
   "metadata": {},
   "source": [
    "### Target variable (y)"
   ]
  },
  {
   "cell_type": "code",
   "execution_count": null,
   "id": "644d47a6-39fc-4a36-b621-a09d00ef093c",
   "metadata": {
    "tags": []
   },
   "outputs": [],
   "source": [
    "# 목표변수\n",
    "df['survived'].value_counts()"
   ]
  },
  {
   "cell_type": "code",
   "execution_count": null,
   "id": "819ccf34-febf-496f-86c6-0e0bbdf1689d",
   "metadata": {
    "tags": []
   },
   "outputs": [],
   "source": [
    "# 목표변수 - 시각화\n",
    "# 클래스의 불균형 확인\n",
    "sns.countplot(data=df, x='survived');"
   ]
  },
  {
   "cell_type": "code",
   "execution_count": null,
   "id": "53e06019-42f0-49fd-aa69-8f5daf59d8f5",
   "metadata": {},
   "outputs": [],
   "source": [
    "# 시각화\n",
    "# sns.FacetGrid() -> 패싯 그리드 \n",
    "g = sns.FacetGrid(df, col='survived', row='pclass', hue='sex')\n",
    "g.map(sns.kdeplot, 'age', alpha=0.5, fill=True)\n",
    "g.add_legend();"
   ]
  },
  {
   "cell_type": "code",
   "execution_count": null,
   "id": "3ef1f31d-d921-45ea-a4d8-13b4a0db5628",
   "metadata": {
    "tags": []
   },
   "outputs": [],
   "source": [
    "# 시각화\n",
    "# sibsp: 본인 제외 동반자 수\n",
    "sns.displot(x='sibsp', kind='hist', hue='survived', data=df, multiple='fill');"
   ]
  },
  {
   "cell_type": "code",
   "execution_count": null,
   "id": "734a8acc-2ef0-41fe-b935-4ce232010341",
   "metadata": {
    "tags": []
   },
   "outputs": [],
   "source": [
    "# 시각화 \n",
    "sns.displot(x='parch', kind='hist', hue='survived', data=df, multiple='fill');"
   ]
  },
  {
   "cell_type": "code",
   "execution_count": null,
   "id": "7fd3d6f9-15d9-434c-8010-7d00e09d7947",
   "metadata": {
    "tags": []
   },
   "outputs": [],
   "source": [
    "# 시각화 \n",
    "sns.boxplot(x='embarked', y='age', hue='survived', data=df);"
   ]
  },
  {
   "cell_type": "code",
   "execution_count": null,
   "id": "d3067a85-788e-4fee-8669-7d7234cccce0",
   "metadata": {
    "tags": []
   },
   "outputs": [],
   "source": [
    "'''\n",
    "[Step 3] 데이터 전처리\n",
    "'''\n",
    "\n",
    "# 중복 데이터 제거\n",
    "print('중복 제거 이전: ', df.shape)\n",
    "df = df.drop_duplicates()\n",
    "print('중복 제거 이후: ', df.shape)"
   ]
  },
  {
   "cell_type": "code",
   "execution_count": null,
   "id": "698fe7d1",
   "metadata": {},
   "outputs": [],
   "source": [
    "df.columns"
   ]
  },
  {
   "cell_type": "code",
   "execution_count": null,
   "id": "3b9f2a42-7404-4e6a-bcc0-ae26a963d4e0",
   "metadata": {
    "tags": []
   },
   "outputs": [],
   "source": [
    "# NaN값이 많은 deck 열을 삭제, embarked와 내용이 겹치는 embark_town 열을 삭제\n",
    "rdf = df.drop(['deck', 'embark_town'], axis=1)  \n",
    "rdf.columns.values"
   ]
  },
  {
   "cell_type": "code",
   "execution_count": null,
   "id": "05f3b52e-fddc-41c0-9861-26804c7c8784",
   "metadata": {
    "tags": []
   },
   "outputs": [],
   "source": [
    "# age 열에 나이 데이터가 없는 모든 행을 삭제 - NaN 값\n",
    "rdf = rdf.dropna(subset=['age'], how='any', axis=0)  \n",
    "print(len(rdf))"
   ]
  },
  {
   "cell_type": "code",
   "execution_count": null,
   "id": "c1398651-c7a4-4d2f-9362-632957f59f18",
   "metadata": {
    "tags": []
   },
   "outputs": [],
   "source": [
    "#(1) embarked 열의 NaN값을 승선도시 중에서 가장 많이 출현한 값으로 치환하기\n",
    "most_freq = rdf['embarked'].value_counts(dropna=True).idxmax()   \n",
    "print(most_freq)"
   ]
  },
  {
   "cell_type": "code",
   "execution_count": null,
   "id": "e95aba95-eed7-4730-9762-1a88cc0532cb",
   "metadata": {
    "tags": []
   },
   "outputs": [],
   "source": [
    "# (2) mode 메소드 활용 (최빈값)\n",
    "most_freq2 = rdf['embarked'].mode()[0]   \n",
    "print(most_freq2)"
   ]
  },
  {
   "cell_type": "code",
   "execution_count": null,
   "id": "5250f7c9-64d7-4c29-8f9d-1be949eff892",
   "metadata": {
    "tags": []
   },
   "outputs": [],
   "source": [
    "# describe 메소드 활용 (최빈값)\n",
    "rdf.describe(include='object')"
   ]
  },
  {
   "cell_type": "code",
   "execution_count": null,
   "id": "8e7b1575-fc4d-4652-b670-c9f97b2c4752",
   "metadata": {
    "tags": []
   },
   "outputs": [],
   "source": [
    "# 최빈값으로 누락 데이터 치환하기\n",
    "rdf['embarked'] = rdf['embarked'].fillna(most_freq)\n",
    "\n",
    "# 결측치 확인하기\n",
    "rdf.isnull().sum()"
   ]
  },
  {
   "cell_type": "code",
   "execution_count": null,
   "id": "192687cb-c5e5-43e2-ba45-7376eab6d357",
   "metadata": {
    "tags": []
   },
   "outputs": [],
   "source": [
    "'''\n",
    "[Step 4] 변수 선택\n",
    "'''\n",
    "\n",
    "# 분석에 활용할 열(특성)을 선택 \n",
    "ndf = rdf[['survived', 'pclass', 'sex', 'age', 'sibsp', 'parch', 'embarked']]\n",
    "ndf.head()"
   ]
  },
  {
   "cell_type": "code",
   "execution_count": null,
   "id": "0a4bdf0c-53b4-41e0-ab7f-508a06e6851d",
   "metadata": {
    "tags": []
   },
   "outputs": [],
   "source": [
    "# 원핫인코딩 - 범주형 데이터를 모형이 인식할 수 있도록 숫자형으로 변환\n",
    "onehot_sex = pd.get_dummies(ndf['sex'])\n",
    "ndf = pd.concat([ndf, onehot_sex], axis=1)\n",
    "\n",
    "onehot_embarked = pd.get_dummies(ndf['embarked'], prefix='town')\n",
    "ndf = pd.concat([ndf, onehot_embarked], axis=1)\n",
    "\n",
    "ndf = ndf.drop(['sex', 'embarked'], axis=1)\n",
    "ndf.head() "
   ]
  },
  {
   "cell_type": "code",
   "execution_count": null,
   "id": "730f3750-e8dc-47bc-a835-21e2dbfd8e4c",
   "metadata": {
    "tags": []
   },
   "outputs": [],
   "source": [
    "'''\n",
    "[Step 5] 데이터셋 구분 - 훈련용(train data)/ 검증용(test data)\n",
    "'''\n",
    "\n",
    "# 속성(변수) 선택\n",
    "X = ndf[['pclass', 'age', 'sibsp', 'parch', 'female', 'male', \n",
    "       'town_C', 'town_Q', 'town_S']]    #독립 변수 X\n",
    "y = ndf['survived']                      #종속 변수 Y\n",
    "\n",
    "# 설명 변수 데이터를 정규화(normalization)\n",
    "from sklearn import preprocessing\n",
    "X = preprocessing.StandardScaler().fit(X).transform(X)\n",
    "\n",
    "# train data 와 test data로 구분(7:3 비율)\n",
    "from sklearn.model_selection import train_test_split\n",
    "X_train, X_test, y_train, y_test = train_test_split(X, y, test_size=0.3, random_state=10) \n",
    "\n",
    "print('train data 개수: ', X_train.shape)\n",
    "print('test data 개수: ', X_test.shape)"
   ]
  },
  {
   "cell_type": "code",
   "execution_count": null,
   "id": "a8af7be8-076b-438c-a76c-c22f2974f88e",
   "metadata": {
    "tags": []
   },
   "outputs": [],
   "source": [
    "'''\n",
    "[Step 6] KNN 분류 모형 - sklearn 사용\n",
    "'''\n",
    "\n",
    "# sklearn 라이브러리에서 KNN 분류 모형 가져오기\n",
    "from sklearn.neighbors import KNeighborsClassifier\n",
    "\n",
    "# 모형 객체 생성 (k=5로 설정)\n",
    "knn = KNeighborsClassifier(n_neighbors=5)\n",
    "\n",
    "# train data를 가지고 모형 학습\n",
    "knn.fit(X_train, y_train)   \n",
    "\n",
    "# test data를 가지고 y_hat을 예측 (분류) \n",
    "y_hat = knn.predict(X_test)\n",
    "\n",
    "print(y_hat[0:10])\n",
    "print(y_test.values[0:10])"
   ]
  },
  {
   "cell_type": "code",
   "execution_count": null,
   "id": "85ed7a64-d525-47a0-a528-5faab0000744",
   "metadata": {
    "tags": []
   },
   "outputs": [],
   "source": [
    "# 모형 성능 평가 - Confusion Matrix 계산\n",
    "from sklearn import metrics \n",
    "knn_matrix = metrics.confusion_matrix(y_test, y_hat)  \n",
    "print(knn_matrix)"
   ]
  },
  {
   "cell_type": "code",
   "execution_count": null,
   "id": "ef02de3c-6a65-4278-b42c-2992914563d6",
   "metadata": {
    "tags": []
   },
   "outputs": [],
   "source": [
    "# Confusion Matrix 시각화\n",
    "\n",
    "plt.figure(figsize=(8, 6))\n",
    "sns.heatmap(knn_matrix, annot=True, fmt='d', cmap='Blues', \n",
    "            xticklabels=['Negative', 'Positive'], \n",
    "            yticklabels=['Negative', 'Positive'])\n",
    "\n",
    "plt.title('Confusion Matrix')\n",
    "plt.ylabel('Actual label')\n",
    "plt.xlabel('Predicted label')\n",
    "plt.show()"
   ]
  },
  {
   "cell_type": "code",
   "execution_count": null,
   "id": "34c65430-f134-4a8d-a4a9-eb5940c7c160",
   "metadata": {
    "tags": []
   },
   "outputs": [],
   "source": [
    "# 모형 성능 평가 - 평가지표 계산\n",
    "knn_report = metrics.classification_report(y_test, y_hat)          \n",
    "print(knn_report)"
   ]
  },
  {
   "cell_type": "code",
   "execution_count": null,
   "id": "c2e49a70",
   "metadata": {},
   "outputs": [],
   "source": [
    "# k-nn\n",
    "import numpy as np\n",
    "import matplotlib.pyplot as plt\n",
    "# 데이터 (닷맛 아삭함)\n",
    "X_train = np.array([ [3,4],[4,4],[5,4],[3,5],[7,7],[7,4] ])  # 학습\n",
    "y_train = np.array([0,1,1,0,1,0])  # 레이블 또는 클래스\n",
    "# 새로운 데이터\n",
    "X_new = np.array([ [5,5] ])  # 테스트\n",
    "# 시각화로 데이터 분포 확인\n",
    "plt.scatter(X_train[y_train==1][:,0],X_train[y_train==1][:,1],marker='o',color='r',label='class 1')\n",
    "plt.scatter(X_train[y_train==0][:,0],X_train[y_train==0][:,1],marker='x',color='b',label='class 0')\n",
    "plt.scatter(X_new[:,0],X_new[:,1],marker='*',color='g',label='new data')\n",
    "plt.legend()\n",
    "plt.show()\n",
    "\n",
    "#. 1 새로운 데이터와 기존 데이터간의 거리 계산\n",
    "print(X_train)\n",
    "print((X_train - X_new)**2)\n",
    "# 거리공식\n",
    "dists = np.sqrt(np.sum((X_train - X_new)**2, axis=1)) # axis=1 행방향\n",
    "print(f'각 데이터와의 거리 : {dists}')\n",
    "\n",
    "#. 2 가장 가까운 k개의 데이터 선택\n",
    "k = 3\n",
    "# 거리를 기준으로 정렬\n",
    "nearest_neighbors = np.argsort(dists)  # 오름차순 정렬\n",
    "print(f'가장 가까운 데이터의 인덱스 : {nearest_neighbors}')\n",
    "topk_neighbors = nearest_neighbors[:k]  # k개 선택\n",
    "topk_neighbors\n",
    "y_train[topk_neighbors]  # k개의 레이블\n",
    "from collections import Counter\n",
    "Counter(y_train[topk_neighbors]).most_common(1)[0][0]  # 최빈값\n",
    "print(f'최종 결정 클래스 : {Counter(y_train[topk_neighbors]).most_common(1)[0][0]}')"
   ]
  },
  {
   "cell_type": "markdown",
   "id": "82fcd0d9",
   "metadata": {},
   "source": [
    "# 데이터 정규화"
   ]
  },
  {
   "cell_type": "code",
   "execution_count": null,
   "id": "4b039ec0",
   "metadata": {},
   "outputs": [],
   "source": [
    "from sklearn.neighbors import KNeighborsClassifier\n",
    "from sklearn.preprocessing import StandardScaler\n",
    "import numpy as np\n",
    "\n",
    "# 키 와 몸무게\n",
    "X = np.array([[170, 70], [180, 80], [160, 50], [175, 65], [155, 45]])\n",
    "y = np.array([0, 1, 0, 1, 0])\n",
    "# 새로운 데이터\n",
    "X_new = np.array([[178, 75]])\n",
    "\n",
    "# 데이터 정규화\n",
    "scaler = StandardScaler()\n",
    "x_train_scaled = scaler.fit_transform(X)\n",
    "net_data_scaled = scaler.transform(X_new)  # 훈련세트와 동일한 기준으로 변환\n",
    "\n",
    "# 모델 생성 k=3\n",
    "knn = KNeighborsClassifier(n_neighbors=3)\n",
    "knn.fit(x_train_scaled,y)\n",
    "\n",
    "# 예측\n",
    "prediction = knn.predict(net_data_scaled)\n",
    "prediction"
   ]
  },
  {
   "cell_type": "markdown",
   "id": "b8f6e0c3",
   "metadata": {},
   "source": [
    "# 예제"
   ]
  },
  {
   "cell_type": "code",
   "execution_count": 1,
   "id": "e5d95ccf",
   "metadata": {},
   "outputs": [],
   "source": [
    "# 타이타닉과 유사하게 데이터 생성하여 실습하자!\n",
    "\n",
    "from sklearn.datasets import make_classification\n",
    "from sklearn.model_selection import train_test_split\n",
    "from sklearn.preprocessing import StandardScaler\n",
    "from sklearn.neighbors import KNeighborsClassifier\n",
    "from sklearn.metrics import accuracy_score\n",
    "import matplotlib.pyplot as plt"
   ]
  },
  {
   "cell_type": "code",
   "execution_count": 7,
   "id": "f3c2543b",
   "metadata": {},
   "outputs": [],
   "source": [
    "# 가상 데이터 생성(특성 9개)\n",
    "X,y = make_classification(n_samples=500, n_features=9, n_informative=5, n_redundant=0, random_state=42)\n",
    "\n",
    "scaler = StandardScaler()\n",
    "\n",
    "# 데이터 분할 및 정규화\n",
    "x_train,x_test,y_train,y_test = train_test_split(X,y,test_size=0.3,random_state=42)\n",
    "x_train_scaled = scaler.fit_transform(x_train)\n",
    "x_test_scaled = scaler.transform(x_test)\n",
    "\n",
    "# K값의 변화에 따른 정확도 측정\n",
    "k_range = range(1,20)\n",
    "accuracies = []\n",
    "for k in k_range:\n",
    "    knn = KNeighborsClassifier(n_neighbors=k)\n",
    "    knn.fit(x_train_scaled,y_train)\n",
    "    accuracies.append(knn.score(x_test_scaled,y_test))\n"
   ]
  },
  {
   "cell_type": "code",
   "execution_count": 3,
   "id": "edc4d380",
   "metadata": {},
   "outputs": [
    {
     "data": {
      "image/png": "[encoded data removed]",
      "text/plain": [
       "<Figure size 640x480 with 1 Axes>"
      ]
     },
     "metadata": {},
     "output_type": "display_data"
    }
   ],
   "source": [
    "# 정확도 시각화 (Elbow Method)\n",
    "plt.plot(k_range,accuracies,marker='o',linestyle='--')\n",
    "plt.grid(True)\n",
    "plt.show()"
   ]
  },
  {
   "cell_type": "markdown",
   "id": "482f77cf",
   "metadata": {},
   "source": [
    "#  클래스 불균형\n",
    "타이타닉\n",
    "- under sampling\n",
    "- over sampling"
   ]
  },
  {
   "cell_type": "code",
   "execution_count": null,
   "id": "5c4994cb",
   "metadata": {},
   "outputs": [
    {
     "name": "stdout",
     "output_type": "stream",
     "text": [
      "Collecting imbalanced-learn\n",
      "  Downloading imbalanced_learn-0.14.0-py3-none-any.whl.metadata (8.8 kB)\n",
      "Requirement already satisfied: numpy<3,>=1.25.2 in c:\\users\\choi\\appdata\\local\\programs\\python\\python312\\lib\\site-packages (from imbalanced-learn) (2.2.5)\n",
      "Requirement already satisfied: scipy<2,>=1.11.4 in c:\\users\\choi\\appdata\\roaming\\python\\python312\\site-packages (from imbalanced-learn) (1.16.2)\n",
      "Requirement already satisfied: scikit-learn<2,>=1.4.2 in c:\\users\\choi\\appdata\\roaming\\python\\python312\\site-packages (from imbalanced-learn) (1.7.2)\n",
      "Requirement already satisfied: joblib<2,>=1.2.0 in c:\\users\\choi\\appdata\\roaming\\python\\python312\\site-packages (from imbalanced-learn) (1.5.2)\n",
      "Requirement already satisfied: threadpoolctl<4,>=2.0.0 in c:\\users\\choi\\appdata\\roaming\\python\\python312\\site-packages (from imbalanced-learn) (3.6.0)\n",
      "Downloading imbalanced_learn-0.14.0-py3-none-any.whl (239 kB)\n",
      "   ---------------------------------------- 0.0/240.0 kB ? eta -:--:--\n",
      "   - -------------------------------------- 10.2/240.0 kB ? eta -:--:--\n",
      "   ---------- ----------------------------- 61.4/240.0 kB 1.1 MB/s eta 0:00:01\n",
      "   ---------------------------------------- 240.0/240.0 kB 2.9 MB/s eta 0:00:00\n",
      "Installing collected packages: imbalanced-learn\n",
      "Successfully installed imbalanced-learn-0.14.0\n",
      "Note: you may need to restart the kernel to use updated packages.\n"
     ]
    },
    {
     "name": "stderr",
     "output_type": "stream",
     "text": [
      "\n",
      "[notice] A new release of pip is available: 24.0 -> 25.2\n",
      "[notice] To update, run: python.exe -m pip install --upgrade pip\n"
     ]
    }
   ],
   "source": [
    "# %pip install imbalanced-learn"
   ]
  },
  {
   "cell_type": "code",
   "execution_count": 10,
   "id": "f6359177",
   "metadata": {},
   "outputs": [
    {
     "data": {
      "text/plain": [
       "Counter({np.int64(1): 251, np.int64(0): 249})"
      ]
     },
     "execution_count": 10,
     "metadata": {},
     "output_type": "execute_result"
    }
   ],
   "source": [
    "from collections import Counter\n",
    "Counter(y)"
   ]
  },
  {
   "cell_type": "code",
   "execution_count": 11,
   "id": "27d1baf7",
   "metadata": {},
   "outputs": [
    {
     "name": "stdout",
     "output_type": "stream",
     "text": [
      "Counter({np.int64(0): 249, np.int64(1): 249})\n",
      "train data 개수:  (348, 9)\n",
      "test data 개수:  (150, 9)\n"
     ]
    },
    {
     "data": {
      "text/plain": [
       "(Counter({np.int64(1): 174, np.int64(0): 174}),\n",
       " Counter({np.int64(0): 75, np.int64(1): 75}))"
      ]
     },
     "execution_count": 11,
     "metadata": {},
     "output_type": "execute_result"
    }
   ],
   "source": [
    "from imblearn.under_sampling import RandomUnderSampler\n",
    "rus = RandomUnderSampler(random_state=42)\n",
    "X_resampled,y_resampled = rus.fit_resample(X,y)\n",
    "print( Counter(y_resampled) )\n",
    "X_train, X_test, y_train, y_test = train_test_split(X_resampled, y_resampled, test_size=0.3, \n",
    "                                                    stratify= y_resampled,\n",
    "                                                    random_state=10) \n",
    "print('train data 개수: ', X_train.shape)\n",
    "print('test data 개수: ', X_test.shape)\n",
    "Counter(y_train), Counter(y_test)"
   ]
  },
  {
   "cell_type": "code",
   "execution_count": null,
   "id": "4615dfde",
   "metadata": {},
   "outputs": [],
   "source": []
  },
  {
   "cell_type": "code",
   "execution_count": null,
   "id": "261cfee1",
   "metadata": {},
   "outputs": [],
   "source": []
  },
  {
   "cell_type": "markdown",
   "id": "fb21dd28",
   "metadata": {},
   "source": []
  }
 ],
 "metadata": {
  "kernelspec": {
   "display_name": "Python 3",
   "language": "python",
   "name": "python3"
  },
  "language_info": {
   "codemirror_mode": {
    "name": "ipython",
    "version": 3
   },
   "file_extension": ".py",
   "mimetype": "text/x-python",
   "name": "python",
   "nbconvert_exporter": "python",
   "pygments_lexer": "ipython3",
   "version": "3.12.2"
  }
 },
 "nbformat": 4,
 "nbformat_minor": 5
}
