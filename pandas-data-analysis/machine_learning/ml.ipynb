{
 "cells": [
  {
   "cell_type": "markdown",
   "id": "bf7cb661",
   "metadata": {},
   "source": [
    "# Data Processing\n",
    "> 결측치: 제거하거나 대체(mean,median,mode,주변 데이터 이용... 다양한 알고리즘) <br>\n",
    "> 클래스 불균형 -> over/under sampling, SMOTE, SMOTEEN\n",
    "# Data Feature Engineering\n",
    "> 연속형 -> 범주형 <br>\n",
    "> 시간 정보는 1-2, 23-0  ???  <br>\n",
    "\n",
    "\n",
    "\n",
    "> OnehotEncoding: *연관성이 전혀 없는 범주형* 라벨링  <br>\n",
    "> 범주형이지만, *순서나 크기가 있는 범주형*은 라벨링을 그대로 유지함!\n",
    "\n",
    "\n",
    "# 머신 러닝\n",
    "- 지도 학습\n",
    "> 회귀: LinearRegression, RandomforestRegressor <br>\n",
    "> 분류: SVM, Kneighbors, DecisionTree, RandomforestClassifier, SGDClassfier\n",
    "- 비지도 학습\n",
    "> 클러스터: K-Means, DBSCAN"
   ]
  },
  {
   "cell_type": "code",
   "execution_count": null,
   "id": "7e726a0d",
   "metadata": {},
   "outputs": [],
   "source": []
  },
  {
   "cell_type": "code",
   "execution_count": null,
   "id": "16b764d9",
   "metadata": {},
   "outputs": [],
   "source": []
  },
  {
   "cell_type": "code",
   "execution_count": null,
   "id": "6d3434ed",
   "metadata": {},
   "outputs": [],
   "source": []
  },
  {
   "cell_type": "code",
   "execution_count": null,
   "id": "7e6eb893",
   "metadata": {},
   "outputs": [],
   "source": []
  }
 ],
 "metadata": {
  "language_info": {
   "name": "python"
  }
 },
 "nbformat": 4,
 "nbformat_minor": 5
}
