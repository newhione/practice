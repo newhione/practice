{
 "cells": [
  {
   "cell_type": "markdown",
   "id": "3200e90e",
   "metadata": {},
   "source": [
    "# 이탈 고객 예측\n",
    "- 데이터 전처리 (결측치 처리, 클래스 불균형 확인 및 처리)\n",
    "- 베이스 모델 선정\n",
    "    - 분류모델: LogisticRegression\n",
    "    - 클래스 리포트, 과적합 여부\n",
    "- 베이스 모델의 성능을 상회하는 모델과 하이퍼 파라미터 조합을 찾아 성능 출력"
   ]
  },
  {
   "cell_type": "code",
   "execution_count": 1,
   "id": "b0b1d9e6",
   "metadata": {},
   "outputs": [
    {
     "data": {
      "text/html": [
       "<div>\n",
       "<style scoped>\n",
       "    .dataframe tbody tr th:only-of-type {\n",
       "        vertical-align: middle;\n",
       "    }\n",
       "\n",
       "    .dataframe tbody tr th {\n",
       "        vertical-align: top;\n",
       "    }\n",
       "\n",
       "    .dataframe thead th {\n",
       "        text-align: right;\n",
       "    }\n",
       "</style>\n",
       "<table border=\"1\" class=\"dataframe\">\n",
       "  <thead>\n",
       "    <tr style=\"text-align: right;\">\n",
       "      <th></th>\n",
       "      <th>customerID</th>\n",
       "      <th>gender</th>\n",
       "      <th>SeniorCitizen</th>\n",
       "      <th>Partner</th>\n",
       "      <th>Dependents</th>\n",
       "      <th>tenure</th>\n",
       "      <th>PhoneService</th>\n",
       "      <th>MultipleLines</th>\n",
       "      <th>InternetService</th>\n",
       "      <th>OnlineSecurity</th>\n",
       "      <th>...</th>\n",
       "      <th>DeviceProtection</th>\n",
       "      <th>TechSupport</th>\n",
       "      <th>StreamingTV</th>\n",
       "      <th>StreamingMovies</th>\n",
       "      <th>Contract</th>\n",
       "      <th>PaperlessBilling</th>\n",
       "      <th>PaymentMethod</th>\n",
       "      <th>MonthlyCharges</th>\n",
       "      <th>TotalCharges</th>\n",
       "      <th>Churn</th>\n",
       "    </tr>\n",
       "  </thead>\n",
       "  <tbody>\n",
       "    <tr>\n",
       "      <th>0</th>\n",
       "      <td>7590-VHVEG</td>\n",
       "      <td>Female</td>\n",
       "      <td>0</td>\n",
       "      <td>Yes</td>\n",
       "      <td>No</td>\n",
       "      <td>1</td>\n",
       "      <td>No</td>\n",
       "      <td>No phone service</td>\n",
       "      <td>DSL</td>\n",
       "      <td>No</td>\n",
       "      <td>...</td>\n",
       "      <td>No</td>\n",
       "      <td>No</td>\n",
       "      <td>No</td>\n",
       "      <td>No</td>\n",
       "      <td>Month-to-month</td>\n",
       "      <td>Yes</td>\n",
       "      <td>Electronic check</td>\n",
       "      <td>29.85</td>\n",
       "      <td>29.85</td>\n",
       "      <td>No</td>\n",
       "    </tr>\n",
       "    <tr>\n",
       "      <th>1</th>\n",
       "      <td>5575-GNVDE</td>\n",
       "      <td>Male</td>\n",
       "      <td>0</td>\n",
       "      <td>No</td>\n",
       "      <td>No</td>\n",
       "      <td>34</td>\n",
       "      <td>Yes</td>\n",
       "      <td>No</td>\n",
       "      <td>DSL</td>\n",
       "      <td>Yes</td>\n",
       "      <td>...</td>\n",
       "      <td>Yes</td>\n",
       "      <td>No</td>\n",
       "      <td>No</td>\n",
       "      <td>No</td>\n",
       "      <td>One year</td>\n",
       "      <td>No</td>\n",
       "      <td>Mailed check</td>\n",
       "      <td>56.95</td>\n",
       "      <td>1889.5</td>\n",
       "      <td>No</td>\n",
       "    </tr>\n",
       "  </tbody>\n",
       "</table>\n",
       "<p>2 rows × 21 columns</p>\n",
       "</div>"
      ],
      "text/plain": [
       "   customerID  gender  SeniorCitizen Partner Dependents  tenure PhoneService  \\\n",
       "0  7590-VHVEG  Female              0     Yes         No       1           No   \n",
       "1  5575-GNVDE    Male              0      No         No      34          Yes   \n",
       "\n",
       "      MultipleLines InternetService OnlineSecurity  ... DeviceProtection  \\\n",
       "0  No phone service             DSL             No  ...               No   \n",
       "1                No             DSL            Yes  ...              Yes   \n",
       "\n",
       "  TechSupport StreamingTV StreamingMovies        Contract PaperlessBilling  \\\n",
       "0          No          No              No  Month-to-month              Yes   \n",
       "1          No          No              No        One year               No   \n",
       "\n",
       "      PaymentMethod MonthlyCharges  TotalCharges Churn  \n",
       "0  Electronic check          29.85         29.85    No  \n",
       "1      Mailed check          56.95        1889.5    No  \n",
       "\n",
       "[2 rows x 21 columns]"
      ]
     },
     "execution_count": 1,
     "metadata": {},
     "output_type": "execute_result"
    }
   ],
   "source": [
    "import pandas as pd\n",
    "import numpy as np\n",
    "\n",
    "url = \"https://raw.githubusercontent.com/pia222sk20/python/main/data/tellecom.csv\"\n",
    "\n",
    "df = pd.read_csv(url)\n",
    "df.head(2)"
   ]
  },
  {
   "cell_type": "markdown",
   "id": "5a778fa7",
   "metadata": {},
   "source": [
    "- gender: 성별, ['Female', 'Male'] <br>\n",
    "- SeniorCitizen: 노인 [0,1] <br>\n",
    "- Partner: ['Yes', 'No'] <br>\n",
    "- Dependents: ['No', 'Yes'] <br>\n",
    "- tenure: 가입기간 <br>\n",
    "- PhoneService: 전화서비스, ['No', 'Yes']\n",
    "\n",
    "- MultipleLines: ['No phone service', 'No', 'Yes']\n",
    "- InternetService: ['DSL', 'Fiber optic', 'No']\n",
    "\n",
    "- OnlineSecurity, DeviceProtection, StreamingTV, StreamingMovies : ['No', 'Yes', 'No internet service']\n",
    "\n",
    "- Contract: ['Month-to-month', 'One year', 'Two year']\n",
    "\n",
    "- PaperlessBilling: 전자식 청구서 ['Yes', 'No']\n",
    "\n",
    "- PaymentMethod: ['Electronic check', 'Mailed check', 'Bank transfer (automatic)', 'Credit card (automatic)']\n",
    "\n",
    "- Churn: array([0, 1])\n",
    "       \n",
    "\n",
    "\n",
    "\n",
    "\n"
   ]
  },
  {
   "cell_type": "code",
   "execution_count": 2,
   "id": "58da13c2",
   "metadata": {},
   "outputs": [
    {
     "data": {
      "text/plain": [
       "array(['No', 'Yes'], dtype=object)"
      ]
     },
     "execution_count": 2,
     "metadata": {},
     "output_type": "execute_result"
    }
   ],
   "source": [
    "df.Churn.unique()"
   ]
  },
  {
   "cell_type": "markdown",
   "id": "65f34fc9",
   "metadata": {},
   "source": [
    "##### 데이터 전처리"
   ]
  },
  {
   "cell_type": "code",
   "execution_count": 3,
   "id": "d69032b0",
   "metadata": {},
   "outputs": [],
   "source": [
    "# TotalCharges의  ' ' 제거\n",
    "df['TotalCharges'] = df['TotalCharges'].replace(' ',np.nan)\n",
    "df['TotalCharges'] = df['TotalCharges'].astype(dtype='float64')\n",
    "# df['TotalCharges'] = df['TotalCharges'].dropna()\n",
    "df['TotalCharges'] = df['TotalCharges'].fillna(df['TotalCharges'].median())"
   ]
  },
  {
   "cell_type": "code",
   "execution_count": 4,
   "id": "24bb84f0",
   "metadata": {},
   "outputs": [],
   "source": [
    "# gender 원핫인코딩\n",
    "df['gender'] = df['gender'].map( {'Female' : 0, 'Male' : 1} )"
   ]
  },
  {
   "cell_type": "code",
   "execution_count": 5,
   "id": "8b649bc8",
   "metadata": {},
   "outputs": [],
   "source": [
    "df['Partner'] = df['Partner'].map( {'Yes' : 1, 'No' : 0} )\n",
    "df['Dependents'] = df['Dependents'].map( {'Yes' : 1, 'No' : 0} )\n",
    "df['PhoneService'] = df['PhoneService'].map( {'Yes' : 1, 'No' : 0} )\n",
    "df['Churn'] = df['Churn'].map( {'Yes' : 1, 'No' : 0})"
   ]
  },
  {
   "cell_type": "code",
   "execution_count": 6,
   "id": "cf10efc5",
   "metadata": {},
   "outputs": [],
   "source": [
    "df = pd.get_dummies(df, columns=['Contract'], drop_first=True)\n",
    "df[['Contract_One year','Contract_Two year']] = df[['Contract_One year', 'Contract_Two year']].astype(int)\n"
   ]
  },
  {
   "cell_type": "code",
   "execution_count": 7,
   "id": "9b8c0f11",
   "metadata": {},
   "outputs": [
    {
     "name": "stdout",
     "output_type": "stream",
     "text": [
      "<class 'pandas.core.frame.DataFrame'>\n",
      "RangeIndex: 7043 entries, 0 to 7042\n",
      "Data columns (total 22 columns):\n",
      " #   Column             Non-Null Count  Dtype  \n",
      "---  ------             --------------  -----  \n",
      " 0   customerID         7043 non-null   object \n",
      " 1   gender             7043 non-null   int64  \n",
      " 2   SeniorCitizen      7043 non-null   int64  \n",
      " 3   Partner            7043 non-null   int64  \n",
      " 4   Dependents         7043 non-null   int64  \n",
      " 5   tenure             7043 non-null   int64  \n",
      " 6   PhoneService       7043 non-null   int64  \n",
      " 7   MultipleLines      7043 non-null   object \n",
      " 8   InternetService    7043 non-null   object \n",
      " 9   OnlineSecurity     7043 non-null   object \n",
      " 10  OnlineBackup       7043 non-null   object \n",
      " 11  DeviceProtection   7043 non-null   object \n",
      " 12  TechSupport        7043 non-null   object \n",
      " 13  StreamingTV        7043 non-null   object \n",
      " 14  StreamingMovies    7043 non-null   object \n",
      " 15  PaperlessBilling   7043 non-null   object \n",
      " 16  PaymentMethod      7043 non-null   object \n",
      " 17  MonthlyCharges     7043 non-null   float64\n",
      " 18  TotalCharges       7043 non-null   float64\n",
      " 19  Churn              7043 non-null   int64  \n",
      " 20  Contract_One year  7043 non-null   int64  \n",
      " 21  Contract_Two year  7043 non-null   int64  \n",
      "dtypes: float64(2), int64(9), object(11)\n",
      "memory usage: 1.2+ MB\n"
     ]
    }
   ],
   "source": [
    "df.info()"
   ]
  },
  {
   "cell_type": "code",
   "execution_count": 8,
   "id": "b2a0ea41",
   "metadata": {},
   "outputs": [
    {
     "name": "stdout",
     "output_type": "stream",
     "text": [
      "gender\n",
      "1    0.504756\n",
      "0    0.495244\n",
      "Name: proportion, dtype: float64\n",
      "--------------------------------------------------\n",
      "Partner\n",
      "0    0.516967\n",
      "1    0.483033\n",
      "Name: proportion, dtype: float64\n",
      "--------------------------------------------------\n",
      "Dependents\n",
      "0    0.700412\n",
      "1    0.299588\n",
      "Name: proportion, dtype: float64\n",
      "--------------------------------------------------\n",
      "PhoneService\n",
      "1    0.903166\n",
      "0    0.096834\n",
      "Name: proportion, dtype: float64\n",
      "--------------------------------------------------\n",
      "Churn\n",
      "0    0.73463\n",
      "1    0.26537\n",
      "Name: proportion, dtype: float64\n"
     ]
    }
   ],
   "source": [
    "print( df['gender'].value_counts(normalize=True) )\n",
    "print('-'*50)\n",
    "print( df['Partner'].value_counts(normalize=True) )\n",
    "print('-'*50)\n",
    "print( df['Dependents'].value_counts(normalize=True) )\n",
    "print('-'*50)\n",
    "print( df['PhoneService'].value_counts(normalize=True) )\n",
    "print('-'*50)\n",
    "print( df['Churn'].value_counts(normalize=True) )"
   ]
  },
  {
   "cell_type": "markdown",
   "id": "d7ff6eeb",
   "metadata": {},
   "source": [
    "#### 모델링"
   ]
  },
  {
   "cell_type": "code",
   "execution_count": 9,
   "id": "5cebfe69",
   "metadata": {},
   "outputs": [],
   "source": [
    "from sklearn.model_selection import train_test_split\n",
    "from sklearn.linear_model import LogisticRegression\n",
    "from sklearn.metrics import classification_report"
   ]
  },
  {
   "cell_type": "code",
   "execution_count": 10,
   "id": "ff27635b",
   "metadata": {},
   "outputs": [
    {
     "name": "stdout",
     "output_type": "stream",
     "text": [
      "              precision    recall  f1-score   support\n",
      "\n",
      "           0       0.73      1.00      0.84      1539\n",
      "           1       0.00      0.00      0.00       574\n",
      "\n",
      "    accuracy                           0.73      2113\n",
      "   macro avg       0.36      0.50      0.42      2113\n",
      "weighted avg       0.53      0.73      0.61      2113\n",
      "\n"
     ]
    }
   ],
   "source": [
    "X = df[['gender','Partner','Dependents', 'PhoneService', 'TotalCharges', 'Contract_One year', 'Contract_Two year']]\n",
    "y = df['Churn']\n",
    "\n",
    "X_train,X_test,y_train,y_test = train_test_split(X,y, test_size=0.3, random_state=42)\n",
    "\n",
    "lr = LogisticRegression(max_iter=1000, random_state=42)\n",
    "lr.fit(X_train,y_train)\n",
    "y_pred = lr.predict(X_test)\n",
    "lr.score(X_test,y_pred)\n",
    "\n",
    "print(classification_report(y_test,y_pred, zero_division=0))"
   ]
  },
  {
   "cell_type": "markdown",
   "id": "29551c53",
   "metadata": {},
   "source": [
    "#### 1) 하이퍼파라미터 튜닝"
   ]
  },
  {
   "cell_type": "code",
   "execution_count": 11,
   "id": "2d7a5049",
   "metadata": {},
   "outputs": [
    {
     "name": "stdout",
     "output_type": "stream",
     "text": [
      "              precision    recall  f1-score   support\n",
      "\n",
      "           0       0.94      0.57      0.71      1539\n",
      "           1       0.44      0.90      0.59       574\n",
      "\n",
      "    accuracy                           0.66      2113\n",
      "   macro avg       0.69      0.73      0.65      2113\n",
      "weighted avg       0.80      0.66      0.67      2113\n",
      "\n"
     ]
    }
   ],
   "source": [
    "# 가중치 부여\n",
    "from sklearn.linear_model import LogisticRegression\n",
    "\n",
    "lr = LogisticRegression(max_iter=1000, random_state=42, class_weight='balanced')\n",
    "lr.fit(X_train, y_train)\n",
    "y_pred = lr.predict(X_test)\n",
    "lr.score(X_test,y_pred)\n",
    "\n",
    "print(classification_report(y_test,y_pred))"
   ]
  },
  {
   "cell_type": "markdown",
   "id": "6210617c",
   "metadata": {},
   "source": [
    "##### 2) 오버샘플링"
   ]
  },
  {
   "cell_type": "code",
   "execution_count": 12,
   "id": "3c82903d",
   "metadata": {},
   "outputs": [
    {
     "name": "stdout",
     "output_type": "stream",
     "text": [
      "Before SMOTE: Churn\n",
      "0    0.737323\n",
      "1    0.262677\n",
      "Name: proportion, dtype: float64\n",
      "After SMOTE: Churn\n",
      "0    0.5\n",
      "1    0.5\n",
      "Name: proportion, dtype: float64\n"
     ]
    }
   ],
   "source": [
    "from imblearn.over_sampling import SMOTE\n",
    "\n",
    "smote = SMOTE(random_state=42)\n",
    "X_train_res, y_train_res = smote.fit_resample(X_train, y_train)\n",
    "\n",
    "print(\"Before SMOTE:\", y_train.value_counts(normalize=True))\n",
    "print(\"After SMOTE:\", y_train_res.value_counts(normalize=True))"
   ]
  },
  {
   "cell_type": "code",
   "execution_count": 13,
   "id": "94699d0e",
   "metadata": {},
   "outputs": [
    {
     "name": "stdout",
     "output_type": "stream",
     "text": [
      "              precision    recall  f1-score   support\n",
      "\n",
      "           0       0.89      0.64      0.75      1539\n",
      "           1       0.45      0.79      0.58       574\n",
      "\n",
      "    accuracy                           0.68      2113\n",
      "   macro avg       0.67      0.72      0.66      2113\n",
      "weighted avg       0.77      0.68      0.70      2113\n",
      "\n"
     ]
    }
   ],
   "source": [
    "X = df[['gender','Partner','Dependents', 'PhoneService', 'TotalCharges', 'Contract_One year', 'Contract_Two year']]\n",
    "y = df['Churn']\n",
    "\n",
    "smote = SMOTE(random_state=42)\n",
    "X_train_res,y_train_res =  smote.fit_resample(X_train, y_train)\n",
    "\n",
    "lr = LogisticRegression(max_iter=1000, random_state=42)\n",
    "lr.fit(X_train_res,y_train_res)\n",
    "y_pred = lr.predict(X_test)\n",
    "lr.score(X_test,y_pred)\n",
    "\n",
    "print(classification_report(y_test,y_pred, zero_division=0))"
   ]
  },
  {
   "cell_type": "markdown",
   "id": "78cbb4ec",
   "metadata": {},
   "source": [
    "##### 3) 변수 중요도"
   ]
  },
  {
   "cell_type": "code",
   "execution_count": 14,
   "id": "d0463b38",
   "metadata": {},
   "outputs": [],
   "source": [
    "import pandas as pd\n",
    "from sklearn.model_selection import train_test_split\n",
    "from sklearn.ensemble import RandomForestClassifier\n",
    "import matplotlib.pyplot as plt\n",
    "\n",
    "url = \"https://raw.githubusercontent.com/pia222sk20/python/main/data/tellecom.csv\"\n",
    "df = pd.read_csv(url)\n",
    "\n",
    "# 수치형 변환\n",
    "df['TotalCharges'] = pd.to_numeric(df['TotalCharges'], errors='coerce')\n",
    "df['TotalCharges'] = df['TotalCharges'].fillna(df['TotalCharges'].median())\n",
    "\n",
    "# 이진 변수 변환\n",
    "bin_cols = ['gender','Partner','Dependents','PhoneService','PaperlessBilling','TechSupport','OnlineBackup']\n",
    "for c in bin_cols:\n",
    "    df[c] = df[c].map({'Yes':1, 'No':0, 'Male':1, 'Female':0})\n",
    "\n",
    "# 원핫인코딩 대상 다중범주 컬럼\n",
    "df.columns = df.columns.str.strip()\n",
    "multi_cols = [\n",
    "    'MultipleLines','InternetService','OnlineSecurity','DeviceProtection',\n",
    "    'StreamingTV','StreamingMovies','Contract','PaymentMethod'\n",
    "]\n",
    "df = pd.get_dummies(df, columns=multi_cols, drop_first=True)\n",
    "\n",
    "# 타깃\n",
    "y = df['Churn']\n",
    "X = df.drop(['Churn','customerID'], axis=1)\n",
    "\n",
    "# 데이터 분할\n",
    "X_train, X_test, y_train, y_test = train_test_split(X, y, test_size=0.3, random_state=42, stratify=y)\n"
   ]
  },
  {
   "cell_type": "code",
   "execution_count": 15,
   "id": "09aedc6b",
   "metadata": {},
   "outputs": [
    {
     "data": {
      "text/html": [
       "<div>\n",
       "<style scoped>\n",
       "    .dataframe tbody tr th:only-of-type {\n",
       "        vertical-align: middle;\n",
       "    }\n",
       "\n",
       "    .dataframe tbody tr th {\n",
       "        vertical-align: top;\n",
       "    }\n",
       "\n",
       "    .dataframe thead th {\n",
       "        text-align: right;\n",
       "    }\n",
       "</style>\n",
       "<table border=\"1\" class=\"dataframe\">\n",
       "  <thead>\n",
       "    <tr style=\"text-align: right;\">\n",
       "      <th></th>\n",
       "      <th>customerID</th>\n",
       "      <th>gender</th>\n",
       "      <th>SeniorCitizen</th>\n",
       "      <th>Partner</th>\n",
       "      <th>Dependents</th>\n",
       "      <th>tenure</th>\n",
       "      <th>PhoneService</th>\n",
       "      <th>OnlineBackup</th>\n",
       "      <th>TechSupport</th>\n",
       "      <th>PaperlessBilling</th>\n",
       "      <th>...</th>\n",
       "      <th>DeviceProtection_Yes</th>\n",
       "      <th>StreamingTV_No internet service</th>\n",
       "      <th>StreamingTV_Yes</th>\n",
       "      <th>StreamingMovies_No internet service</th>\n",
       "      <th>StreamingMovies_Yes</th>\n",
       "      <th>Contract_One year</th>\n",
       "      <th>Contract_Two year</th>\n",
       "      <th>PaymentMethod_Credit card (automatic)</th>\n",
       "      <th>PaymentMethod_Electronic check</th>\n",
       "      <th>PaymentMethod_Mailed check</th>\n",
       "    </tr>\n",
       "  </thead>\n",
       "  <tbody>\n",
       "    <tr>\n",
       "      <th>0</th>\n",
       "      <td>7590-VHVEG</td>\n",
       "      <td>0</td>\n",
       "      <td>0</td>\n",
       "      <td>1</td>\n",
       "      <td>0</td>\n",
       "      <td>1</td>\n",
       "      <td>0</td>\n",
       "      <td>1.0</td>\n",
       "      <td>0.0</td>\n",
       "      <td>1</td>\n",
       "      <td>...</td>\n",
       "      <td>False</td>\n",
       "      <td>False</td>\n",
       "      <td>False</td>\n",
       "      <td>False</td>\n",
       "      <td>False</td>\n",
       "      <td>False</td>\n",
       "      <td>False</td>\n",
       "      <td>False</td>\n",
       "      <td>True</td>\n",
       "      <td>False</td>\n",
       "    </tr>\n",
       "    <tr>\n",
       "      <th>1</th>\n",
       "      <td>5575-GNVDE</td>\n",
       "      <td>1</td>\n",
       "      <td>0</td>\n",
       "      <td>0</td>\n",
       "      <td>0</td>\n",
       "      <td>34</td>\n",
       "      <td>1</td>\n",
       "      <td>0.0</td>\n",
       "      <td>0.0</td>\n",
       "      <td>0</td>\n",
       "      <td>...</td>\n",
       "      <td>True</td>\n",
       "      <td>False</td>\n",
       "      <td>False</td>\n",
       "      <td>False</td>\n",
       "      <td>False</td>\n",
       "      <td>True</td>\n",
       "      <td>False</td>\n",
       "      <td>False</td>\n",
       "      <td>False</td>\n",
       "      <td>True</td>\n",
       "    </tr>\n",
       "  </tbody>\n",
       "</table>\n",
       "<p>2 rows × 30 columns</p>\n",
       "</div>"
      ],
      "text/plain": [
       "   customerID  gender  SeniorCitizen  Partner  Dependents  tenure  \\\n",
       "0  7590-VHVEG       0              0        1           0       1   \n",
       "1  5575-GNVDE       1              0        0           0      34   \n",
       "\n",
       "   PhoneService  OnlineBackup  TechSupport  PaperlessBilling  ...  \\\n",
       "0             0           1.0          0.0                 1  ...   \n",
       "1             1           0.0          0.0                 0  ...   \n",
       "\n",
       "   DeviceProtection_Yes  StreamingTV_No internet service StreamingTV_Yes  \\\n",
       "0                 False                            False           False   \n",
       "1                  True                            False           False   \n",
       "\n",
       "   StreamingMovies_No internet service  StreamingMovies_Yes  \\\n",
       "0                                False                False   \n",
       "1                                False                False   \n",
       "\n",
       "   Contract_One year  Contract_Two year  \\\n",
       "0              False              False   \n",
       "1               True              False   \n",
       "\n",
       "   PaymentMethod_Credit card (automatic)  PaymentMethod_Electronic check  \\\n",
       "0                                  False                            True   \n",
       "1                                  False                           False   \n",
       "\n",
       "   PaymentMethod_Mailed check  \n",
       "0                       False  \n",
       "1                        True  \n",
       "\n",
       "[2 rows x 30 columns]"
      ]
     },
     "execution_count": 15,
     "metadata": {},
     "output_type": "execute_result"
    }
   ],
   "source": [
    "df.head(2)"
   ]
  },
  {
   "cell_type": "code",
   "execution_count": 16,
   "id": "f639c760",
   "metadata": {},
   "outputs": [
    {
     "name": "stdout",
     "output_type": "stream",
     "text": [
      "                           Feature  Importance\n",
      "10                    TotalCharges    0.173741\n",
      "4                           tenure    0.160181\n",
      "9                   MonthlyCharges    0.149381\n",
      "24               Contract_Two year    0.053316\n",
      "7                      TechSupport    0.049439\n",
      "13     InternetService_Fiber optic    0.041755\n",
      "26  PaymentMethod_Electronic check    0.035765\n",
      "6                     OnlineBackup    0.031122\n",
      "23               Contract_One year    0.030169\n",
      "0                           gender    0.026210\n",
      "16              OnlineSecurity_Yes    0.026118\n",
      "8                 PaperlessBilling    0.025660\n",
      "2                          Partner    0.021939\n",
      "3                       Dependents    0.019251\n",
      "18            DeviceProtection_Yes    0.018069\n"
     ]
    }
   ],
   "source": [
    "rf = RandomForestClassifier(\n",
    "    n_estimators=500,\n",
    "    random_state=42,\n",
    "    class_weight='balanced',   # 불균형 대응\n",
    "    n_jobs=-1\n",
    ")\n",
    "rf.fit(X_train, y_train)\n",
    "\n",
    "# 중요도 추출\n",
    "importances = rf.feature_importances_\n",
    "imp_df = pd.DataFrame({'Feature': X.columns, 'Importance': importances})\n",
    "imp_df = imp_df.sort_values('Importance', ascending=False)\n",
    "\n",
    "# 상위 15개만 보기\n",
    "print(imp_df.head(15))"
   ]
  },
  {
   "cell_type": "code",
   "execution_count": 17,
   "id": "0fcfb148",
   "metadata": {},
   "outputs": [
    {
     "data": {
      "image/png": "[encoded data removed]",
      "text/plain": [
       "<Figure size 600x600 with 1 Axes>"
      ]
     },
     "metadata": {},
     "output_type": "display_data"
    }
   ],
   "source": [
    "plt.figure(figsize=(6,6))\n",
    "plt.barh(imp_df.head(15)['Feature'], imp_df.head(15)['Importance'], color='skyblue')\n",
    "plt.gca().invert_yaxis()\n",
    "plt.title('Top 15 Feature Importances (RandomForest)')\n",
    "plt.xlabel('Importance')\n",
    "plt.show()\n"
   ]
  },
  {
   "cell_type": "code",
   "execution_count": 18,
   "id": "16b288dc",
   "metadata": {},
   "outputs": [
    {
     "data": {
      "text/plain": [
       "0       0\n",
       "1       0\n",
       "2       0\n",
       "3       1\n",
       "4       0\n",
       "       ..\n",
       "7038    1\n",
       "7039    0\n",
       "7040    0\n",
       "7041    0\n",
       "7042    1\n",
       "Name: TechSupport, Length: 7043, dtype: int64"
      ]
     },
     "execution_count": 18,
     "metadata": {},
     "output_type": "execute_result"
    }
   ],
   "source": [
    "df['TechSupport'] = df['TechSupport'].fillna('0').astype(dtype='int')\n",
    "df.TechSupport"
   ]
  },
  {
   "cell_type": "code",
   "execution_count": 19,
   "id": "43201521",
   "metadata": {},
   "outputs": [
    {
     "data": {
      "text/plain": [
       "TotalCharges         0\n",
       "tenure               0\n",
       "MonthlyCharges       0\n",
       "TechSupport          0\n",
       "gender               0\n",
       "Contract_Two year    0\n",
       "Contract_One year    0\n",
       "dtype: int64"
      ]
     },
     "execution_count": 19,
     "metadata": {},
     "output_type": "execute_result"
    }
   ],
   "source": [
    "df[['TotalCharges','tenure','MonthlyCharges','TechSupport','gender','Contract_Two year','Contract_One year']].isna().sum()"
   ]
  },
  {
   "cell_type": "code",
   "execution_count": 25,
   "id": "49fd9394",
   "metadata": {},
   "outputs": [
    {
     "name": "stdout",
     "output_type": "stream",
     "text": [
      "              precision    recall  f1-score   support\n",
      "\n",
      "          No       0.90      0.73      0.80      1539\n",
      "         Yes       0.52      0.78      0.62       574\n",
      "\n",
      "    accuracy                           0.74      2113\n",
      "   macro avg       0.71      0.75      0.71      2113\n",
      "weighted avg       0.80      0.74      0.75      2113\n",
      "\n"
     ]
    }
   ],
   "source": [
    "# 중요 변수 선정, Churn 오버샘플링, 스케일링, 로지스틱회귀 가중치 부여, 그리드서치 적용\n",
    "from sklearn.preprocessing import StandardScaler\n",
    "\n",
    "X = df[['TotalCharges','tenure','MonthlyCharges','TechSupport','gender','Contract_Two year','Contract_One year']]\n",
    "y = df.loc[:,'Churn']\n",
    "\n",
    "X_train,X_test,y_train,y_test = train_test_split(X, y, test_size=0.3, random_state=42)\n",
    "\n",
    "smote = SMOTE(random_state=42)\n",
    "X_train_res,y_train_res =  smote.fit_resample(X_train, y_train)\n",
    "\n",
    "scaler = StandardScaler()\n",
    "X_train_scaled = scaler.fit_transform(X_train_res)\n",
    "X_test_scaled = scaler.transform(X_test)\n",
    "\n",
    "lr = LogisticRegression(C=0.01, penalty='l2', max_iter=1000, random_state=42, class_weight='balanced')\n",
    "lr.fit(X_train_scaled ,y_train_res)\n",
    "y_pred = lr.predict(X_test_scaled)\n",
    "lr.score(X_test_scaled,y_pred)\n",
    "\n",
    "print(classification_report(y_test,y_pred, zero_division=0))"
   ]
  },
  {
   "cell_type": "code",
   "execution_count": 21,
   "id": "4f706268",
   "metadata": {},
   "outputs": [
    {
     "data": {
      "text/plain": [
       "array(['No', 'Yes'], dtype=object)"
      ]
     },
     "execution_count": 21,
     "metadata": {},
     "output_type": "execute_result"
    }
   ],
   "source": [
    "df.Churn.unique()"
   ]
  },
  {
   "cell_type": "code",
   "execution_count": 22,
   "id": "534175e0",
   "metadata": {},
   "outputs": [
    {
     "name": "stdout",
     "output_type": "stream",
     "text": [
      "              precision    recall  f1-score   support\n",
      "\n",
      "          No       0.92      0.70      0.79      1539\n",
      "         Yes       0.51      0.84      0.63       574\n",
      "\n",
      "    accuracy                           0.74      2113\n",
      "   macro avg       0.71      0.77      0.71      2113\n",
      "weighted avg       0.81      0.74      0.75      2113\n",
      "\n"
     ]
    }
   ],
   "source": [
    "# 파이프라인에 넣는법\n",
    "from sklearn.preprocessing import StandardScaler\n",
    "from sklearn.pipeline import Pipeline\n",
    "\n",
    "pipe = Pipeline([\n",
    "    ('scaler', StandardScaler()),\n",
    "    ('lr', LogisticRegression(C=0.01, penalty='l2', max_iter=1000, random_state=42, class_weight='balanced'))\n",
    "])\n",
    "\n",
    "pipe.fit(X_train, y_train)\n",
    "y_pred = pipe.predict(X_test)\n",
    "print(classification_report(y_test, y_pred, zero_division=0))\n"
   ]
  },
  {
   "cell_type": "markdown",
   "id": "fc163e91",
   "metadata": {},
   "source": [
    "##### 4) 그리드서치"
   ]
  },
  {
   "cell_type": "code",
   "execution_count": 23,
   "id": "e7a3587d",
   "metadata": {},
   "outputs": [],
   "source": [
    "# from sklearn.model_selection import GridSearchCV\n",
    "\n",
    "# param_grid = {\n",
    "#     'lr__C': [0.01, 0.1, 1, 10],\n",
    "#     'lr__penalty': ['l2']\n",
    "# }\n",
    "\n",
    "# grid = GridSearchCV(pipe, param_grid, cv=5, scoring='f1', n_jobs=-1)\n",
    "# grid.fit(X_train, y_train)\n",
    "# print(\"Best params:\", grid.best_params_)\n",
    "# print(\"Best F1:\", grid.best_score_)"
   ]
  },
  {
   "cell_type": "code",
   "execution_count": 26,
   "id": "02253f67",
   "metadata": {},
   "outputs": [
    {
     "name": "stdout",
     "output_type": "stream",
     "text": [
      "              precision    recall  f1-score   support\n",
      "\n",
      "          No       0.90      0.73      0.80      1539\n",
      "         Yes       0.52      0.78      0.62       574\n",
      "\n",
      "    accuracy                           0.74      2113\n",
      "   macro avg       0.71      0.75      0.71      2113\n",
      "weighted avg       0.80      0.74      0.75      2113\n",
      "\n"
     ]
    }
   ],
   "source": [
    "from sklearn.ensemble import RandomForestClassifier\n",
    "classifier_rf = RandomForestClassifier(max_depth = 4,random_state = 0)\n",
    "classifier_rf.fit(X_train_scaled ,y_train_res)\n",
    "y_pred = lr.predict(X_test_scaled)\n",
    "lr.score(X_test_scaled,y_pred)\n",
    "\n",
    "print(classification_report(y_test,y_pred, zero_division=0))"
   ]
  },
  {
   "cell_type": "code",
   "execution_count": null,
   "id": "e49aeb65",
   "metadata": {},
   "outputs": [],
   "source": []
  },
  {
   "cell_type": "code",
   "execution_count": null,
   "id": "9a44ab1c",
   "metadata": {},
   "outputs": [],
   "source": []
  },
  {
   "cell_type": "code",
   "execution_count": null,
   "id": "0542d24a",
   "metadata": {},
   "outputs": [],
   "source": []
  },
  {
   "cell_type": "code",
   "execution_count": null,
   "id": "9372e3d1",
   "metadata": {},
   "outputs": [],
   "source": []
  }
 ],
 "metadata": {
  "kernelspec": {
   "display_name": ".venv",
   "language": "python",
   "name": "python3"
  },
  "language_info": {
   "codemirror_mode": {
    "name": "ipython",
    "version": 3
   },
   "file_extension": ".py",
   "mimetype": "text/x-python",
   "name": "python",
   "nbconvert_exporter": "python",
   "pygments_lexer": "ipython3",
   "version": "3.12.2"
  }
 },
 "nbformat": 4,
 "nbformat_minor": 5
}
