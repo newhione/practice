{
 "cells": [
  {
   "cell_type": "markdown",
   "id": "d5c3ccff",
   "metadata": {},
   "source": [
    "# 불균형 클래스\n",
    "- 클래스 불균형에 대한 이해\n",
    "- 클래스 가중치 사용\n",
    "- Resampling\n",
    "- 적절한 평가지표"
   ]
  },
  {
   "cell_type": "markdown",
   "id": "c43b933a",
   "metadata": {},
   "source": [
    "#### 로지스틱 회귀로"
   ]
  },
  {
   "cell_type": "code",
   "execution_count": 121,
   "id": "1c66b674",
   "metadata": {},
   "outputs": [],
   "source": [
    "import numpy as np"
   ]
  },
  {
   "cell_type": "code",
   "execution_count": 122,
   "id": "5305c2b0",
   "metadata": {},
   "outputs": [
    {
     "name": "stdout",
     "output_type": "stream",
     "text": [
      "악성 양성의 오리지널 비율: (array([0, 1]), array([212, 357]))\n",
      "클래스 분포\n",
      "클래스 0 : 212개 (0.8%)\n",
      "클래스 1 : 39개 (0.2%)\n"
     ]
    }
   ],
   "source": [
    "# 불균형 데이터 (9:1) 양성(0):악성(1)  \n",
    "from sklearn.datasets import load_breast_cancer\n",
    "data = load_breast_cancer()\n",
    "X, y = data.data, data.target\n",
    "\n",
    "# 악성을 소수클래스로 만들기\n",
    "print(f'악성 양성의 오리지널 비율: {np.unique(y,return_counts=True)}')\n",
    "m_index = np.where(y == 1)[0] #악성 인덱스 변환\n",
    "b_index = np.where( y == 0)[0]\n",
    "\n",
    "# 악성은 일부만, 양성은 더 많이 사용\n",
    "# 악성의 30%만 사용, 양성은 전체\n",
    "size_30 = int(len(m_index) * 0.11)\n",
    "selected_m_index = np.random.choice(m_index,size=size_30,replace=False)\n",
    "selected_b_index = b_index\n",
    "\n",
    "concatenate_selected_index = np.concatenate( [selected_m_index, selected_b_index] )\n",
    "np.random.shuffle(concatenate_selected_index)\n",
    "\n",
    "X_lmb = X[concatenate_selected_index]\n",
    "y_lmb = y[concatenate_selected_index]\n",
    "\n",
    "# 클래스 분포 확인\n",
    "unique, counts = np.unique(y_lmb, return_counts=True)\n",
    "print('클래스 분포')\n",
    "\n",
    "for label, count in zip(unique, counts):\n",
    "    percentage =  count/len(y_lmb)\n",
    "    print(f'클래스 {label} : {count}개 ({percentage:.1f}%)')"
   ]
  },
  {
   "cell_type": "code",
   "execution_count": 123,
   "id": "4debbdc3",
   "metadata": {},
   "outputs": [],
   "source": [
    "# 불균형 상태로 진행\n",
    "# 스케일링 정규화 StandardScaler\n",
    "# pipe\n",
    "# 평가는 class report"
   ]
  },
  {
   "cell_type": "code",
   "execution_count": 124,
   "id": "c5785ba6",
   "metadata": {},
   "outputs": [
    {
     "name": "stdout",
     "output_type": "stream",
     "text": [
      "< 클래스 불균형 >\n",
      "              precision    recall  f1-score   support\n",
      "\n",
      "           0       0.92      1.00      0.96        61\n",
      "           1       1.00      0.67      0.80        15\n",
      "\n",
      "    accuracy                           0.93        76\n",
      "   macro avg       0.96      0.83      0.88        76\n",
      "weighted avg       0.94      0.93      0.93        76\n",
      "\n"
     ]
    }
   ],
   "source": [
    "print('< 클래스 불균형 >')\n",
    "\n",
    "from sklearn.model_selection import train_test_split\n",
    "from sklearn.preprocessing import StandardScaler\n",
    "from sklearn.pipeline import Pipeline\n",
    "from sklearn.metrics import classification_report\n",
    "from sklearn.linear_model import LogisticRegression\n",
    "# np.random.seed(42)\n",
    "\n",
    "X_train,X_test,y_train,y_test = train_test_split(X_lmb,y_lmb, test_size=0.3, random_state=42)\n",
    "\n",
    "pipe = Pipeline( [ \n",
    "    ('sclaer',StandardScaler()),\n",
    "    ('clf',LogisticRegression())\n",
    "])\n",
    "\n",
    "pipe.fit(X_train,y_train)\n",
    "y_pred = pipe.predict(X_test)\n",
    "\n",
    "print(classification_report(y_test, y_pred ))"
   ]
  },
  {
   "cell_type": "code",
   "execution_count": 125,
   "id": "d2c2ca3a",
   "metadata": {},
   "outputs": [
    {
     "name": "stdout",
     "output_type": "stream",
     "text": [
      "< 클래스 불균형 해결: 클래스 가중치 사용 >\n",
      "              precision    recall  f1-score   support\n",
      "\n",
      "           0       0.97      1.00      0.98        61\n",
      "           1       1.00      0.87      0.93        15\n",
      "\n",
      "    accuracy                           0.97        76\n",
      "   macro avg       0.98      0.93      0.96        76\n",
      "weighted avg       0.97      0.97      0.97        76\n",
      "\n",
      "< 가중치 계산 >\n",
      " 클래스: 0:0.579\n",
      " 클래스: 1:3.646\n"
     ]
    }
   ],
   "source": [
    "print('< 클래스 불균형 해결: 클래스 가중치 사용 >')\n",
    "\n",
    "# 기존 파이프라인 복사 후, 클래스 가중치 적용\n",
    "from copy import deepcopy\n",
    "\n",
    "pipe_weight = deepcopy(pipe)\n",
    "pipe_weight.set_params(clf__class_weight='balanced')\n",
    "\n",
    "pipe_weight.fit(X_train, y_train)\n",
    "y_pred = pipe_weight.predict(X_test)\n",
    "\n",
    "print(classification_report(y_test, y_pred))\n",
    "\n",
    "# -------------------------\n",
    "print('< 가중치 계산 >')\n",
    "n_samples = len(y_train)\n",
    "n_classes = 2\n",
    "class_counts = np.bincount(y_train)\n",
    "for i in range(n_classes):\n",
    "    weight = n_samples / (n_classes*class_counts[i])\n",
    "    print(f' 클래스: {i}:{weight:.3f}')"
   ]
  },
  {
   "cell_type": "markdown",
   "id": "81d9a8f7",
   "metadata": {},
   "source": [
    "#### 랜덤포레스트로"
   ]
  },
  {
   "cell_type": "code",
   "execution_count": 126,
   "id": "1f165082",
   "metadata": {},
   "outputs": [
    {
     "name": "stdout",
     "output_type": "stream",
     "text": [
      "<클래스 불균형>\n",
      "              precision    recall  f1-score   support\n",
      "\n",
      "           0       0.90      1.00      0.95        61\n",
      "           1       1.00      0.53      0.70        15\n",
      "\n",
      "    accuracy                           0.91        76\n",
      "   macro avg       0.95      0.77      0.82        76\n",
      "weighted avg       0.92      0.91      0.90        76\n",
      "\n"
     ]
    }
   ],
   "source": [
    "print('<클래스 불균형>')\n",
    "\n",
    "from sklearn.ensemble import RandomForestClassifier\n",
    "\n",
    "pipe_rf = Pipeline([\n",
    "    ('sclaer',StandardScaler()),\n",
    "    ('clf',RandomForestClassifier())\n",
    "])\n",
    "\n",
    "pipe_rf.fit(X_train,y_train)\n",
    "y_pred_rf = pipe_rf.predict(X_test)\n",
    "\n",
    "print(classification_report(y_test, y_pred_rf))"
   ]
  },
  {
   "cell_type": "code",
   "execution_count": 127,
   "id": "166fa4aa",
   "metadata": {},
   "outputs": [
    {
     "name": "stdout",
     "output_type": "stream",
     "text": [
      "<클래스 불균형: RandomForest(균형모드)>\n",
      "              precision    recall  f1-score   support\n",
      "\n",
      "           0       0.91      1.00      0.95        61\n",
      "           1       1.00      0.60      0.75        15\n",
      "\n",
      "    accuracy                           0.92        76\n",
      "   macro avg       0.96      0.80      0.85        76\n",
      "weighted avg       0.93      0.92      0.91        76\n",
      "\n"
     ]
    }
   ],
   "source": [
    "print('<클래스 불균형: RandomForest(균형모드)>')\n",
    "\n",
    "from sklearn.ensemble import RandomForestClassifier\n",
    "\n",
    "pipe_rf = Pipeline([\n",
    "    ('sclaer',StandardScaler()),\n",
    "    ('clf',RandomForestClassifier(class_weight='balanced',random_state=42))\n",
    "])\n",
    "\n",
    "pipe_rf.fit(X_train,y_train)\n",
    "y_pred_rf = pipe_rf.predict(X_test)\n",
    "\n",
    "print(classification_report(y_test, y_pred_rf))"
   ]
  }
 ],
 "metadata": {
  "kernelspec": {
   "display_name": ".venv",
   "language": "python",
   "name": "python3"
  },
  "language_info": {
   "codemirror_mode": {
    "name": "ipython",
    "version": 3
   },
   "file_extension": ".py",
   "mimetype": "text/x-python",
   "name": "python",
   "nbconvert_exporter": "python",
   "pygments_lexer": "ipython3",
   "version": "3.12.2"
  }
 },
 "nbformat": 4,
 "nbformat_minor": 5
}
